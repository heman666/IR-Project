{
 "cells": [
  {
   "cell_type": "code",
   "execution_count": 1,
   "metadata": {},
   "outputs": [],
   "source": [
    "import pandas as pd\n",
    "import numpy as np\n",
    "import nltk\n",
    "from collections import Counter\n",
    "from sklearn.feature_extraction.text import TfidfVectorizer\n",
    "from sklearn.model_selection import train_test_split\n",
    "from sklearn.naive_bayes import MultinomialNB\n",
    "from sklearn.metrics import f1_score, accuracy_score, recall_score, precision_score\n",
    "from wordcloud import WordCloud\n",
    "import warnings\n",
    "warnings.filterwarnings('ignore')"
   ]
  },
  {
   "cell_type": "code",
   "execution_count": 2,
   "metadata": {},
   "outputs": [],
   "source": [
    "filepath = 'C:\\\\Users\\\\Dinesh\\\\Desktop\\\\IR\\\\fake_or_real_news1.csv'\n",
    "fake_real_data = pd.read_csv(filepath)"
   ]
  },
  {
   "cell_type": "code",
   "execution_count": 3,
   "metadata": {},
   "outputs": [
    {
     "data": {
      "text/html": [
       "<div>\n",
       "<style scoped>\n",
       "    .dataframe tbody tr th:only-of-type {\n",
       "        vertical-align: middle;\n",
       "    }\n",
       "\n",
       "    .dataframe tbody tr th {\n",
       "        vertical-align: top;\n",
       "    }\n",
       "\n",
       "    .dataframe thead th {\n",
       "        text-align: right;\n",
       "    }\n",
       "</style>\n",
       "<table border=\"1\" class=\"dataframe\">\n",
       "  <thead>\n",
       "    <tr style=\"text-align: right;\">\n",
       "      <th></th>\n",
       "      <th>title</th>\n",
       "      <th>text</th>\n",
       "      <th>label</th>\n",
       "      <th>clean_title</th>\n",
       "      <th>clean_text</th>\n",
       "    </tr>\n",
       "  </thead>\n",
       "  <tbody>\n",
       "    <tr>\n",
       "      <th>0</th>\n",
       "      <td>You Can Smell Hillary’s Fear</td>\n",
       "      <td>Daniel Greenfield, a Shillman Journalism Fello...</td>\n",
       "      <td>0</td>\n",
       "      <td>smell hillary’s fear</td>\n",
       "      <td>daniel greenfield, shillman journalism fellow ...</td>\n",
       "    </tr>\n",
       "    <tr>\n",
       "      <th>1</th>\n",
       "      <td>Watch The Exact Moment Paul Ryan Committed Pol...</td>\n",
       "      <td>Google Pinterest Digg Linkedin Reddit Stumbleu...</td>\n",
       "      <td>0</td>\n",
       "      <td>watch exact moment paul ryan committed politic...</td>\n",
       "      <td>google pinterest digg linkedin reddit stumbleu...</td>\n",
       "    </tr>\n",
       "    <tr>\n",
       "      <th>2</th>\n",
       "      <td>Kerry to go to Paris in gesture of sympathy</td>\n",
       "      <td>U.S. Secretary of State John F. Kerry said Mon...</td>\n",
       "      <td>1</td>\n",
       "      <td>kerry go paris gesture sympathy</td>\n",
       "      <td>u.s. secretary state john f. kerry said monday...</td>\n",
       "    </tr>\n",
       "    <tr>\n",
       "      <th>3</th>\n",
       "      <td>Bernie supporters on Twitter erupt in anger ag...</td>\n",
       "      <td>— Kaydee King (@KaydeeKing) November 9, 2016 T...</td>\n",
       "      <td>0</td>\n",
       "      <td>bernie supporters twitter erupt anger dnc: 'we...</td>\n",
       "      <td>kaydee king (@kaydeeking) november 9, 2016 les...</td>\n",
       "    </tr>\n",
       "    <tr>\n",
       "      <th>4</th>\n",
       "      <td>The Battle of New York: Why This Primary Matters</td>\n",
       "      <td>It's primary day in New York and front-runners...</td>\n",
       "      <td>1</td>\n",
       "      <td>battle new york: primary matters</td>\n",
       "      <td>primary day new york front-runners hillary cli...</td>\n",
       "    </tr>\n",
       "  </tbody>\n",
       "</table>\n",
       "</div>"
      ],
      "text/plain": [
       "                                               title  \\\n",
       "0                       You Can Smell Hillary’s Fear   \n",
       "1  Watch The Exact Moment Paul Ryan Committed Pol...   \n",
       "2        Kerry to go to Paris in gesture of sympathy   \n",
       "3  Bernie supporters on Twitter erupt in anger ag...   \n",
       "4   The Battle of New York: Why This Primary Matters   \n",
       "\n",
       "                                                text  label  \\\n",
       "0  Daniel Greenfield, a Shillman Journalism Fello...      0   \n",
       "1  Google Pinterest Digg Linkedin Reddit Stumbleu...      0   \n",
       "2  U.S. Secretary of State John F. Kerry said Mon...      1   \n",
       "3  — Kaydee King (@KaydeeKing) November 9, 2016 T...      0   \n",
       "4  It's primary day in New York and front-runners...      1   \n",
       "\n",
       "                                         clean_title  \\\n",
       "0                               smell hillary’s fear   \n",
       "1  watch exact moment paul ryan committed politic...   \n",
       "2                    kerry go paris gesture sympathy   \n",
       "3  bernie supporters twitter erupt anger dnc: 'we...   \n",
       "4                   battle new york: primary matters   \n",
       "\n",
       "                                          clean_text  \n",
       "0  daniel greenfield, shillman journalism fellow ...  \n",
       "1  google pinterest digg linkedin reddit stumbleu...  \n",
       "2  u.s. secretary state john f. kerry said monday...  \n",
       "3  kaydee king (@kaydeeking) november 9, 2016 les...  \n",
       "4  primary day new york front-runners hillary cli...  "
      ]
     },
     "execution_count": 3,
     "metadata": {},
     "output_type": "execute_result"
    }
   ],
   "source": [
    "fake_real_data.drop(['Unnamed: 0'],axis=1).head()"
   ]
  },
  {
   "cell_type": "code",
   "execution_count": 4,
   "metadata": {},
   "outputs": [],
   "source": [
    "X_body_text = fake_real_data['clean_text'].values\n",
    "X_title_text = fake_real_data['clean_title'].values\n",
    "y = fake_real_data['label'].values"
   ]
  },
  {
   "cell_type": "code",
   "execution_count": 5,
   "metadata": {},
   "outputs": [],
   "source": [
    "tfidf = TfidfVectorizer(ngram_range=(1,2), max_df= 0.99, min_df= 0.01)"
   ]
  },
  {
   "cell_type": "code",
   "execution_count": 6,
   "metadata": {},
   "outputs": [],
   "source": [
    "X_body_tfidf = tfidf.fit_transform(X_body_text.astype('U'))\n",
    "X_title_tfidf = tfidf.fit_transform (X_title_text.astype('U'))"
   ]
  },
  {
   "cell_type": "code",
   "execution_count": 7,
   "metadata": {},
   "outputs": [],
   "source": [
    "indices = fake_real_data.index.values"
   ]
  },
  {
   "cell_type": "code",
   "execution_count": 8,
   "metadata": {},
   "outputs": [],
   "source": [
    "X_body_tfidf_train, X_body_tfidf_test,y_body_train, y_body_test,indices_body_train, indices_body_test = train_test_split(X_body_tfidf, y, indices, test_size = 0.2, random_state=42)"
   ]
  },
  {
   "cell_type": "code",
   "execution_count": 9,
   "metadata": {},
   "outputs": [
    {
     "data": {
      "text/html": [
       "<div>\n",
       "<style scoped>\n",
       "    .dataframe tbody tr th:only-of-type {\n",
       "        vertical-align: middle;\n",
       "    }\n",
       "\n",
       "    .dataframe tbody tr th {\n",
       "        vertical-align: top;\n",
       "    }\n",
       "\n",
       "    .dataframe thead th {\n",
       "        text-align: right;\n",
       "    }\n",
       "</style>\n",
       "<table border=\"1\" class=\"dataframe\">\n",
       "  <thead>\n",
       "    <tr style=\"text-align: right;\">\n",
       "      <th></th>\n",
       "      <th>Unnamed: 0</th>\n",
       "      <th>title</th>\n",
       "      <th>text</th>\n",
       "      <th>clean_title</th>\n",
       "      <th>clean_text</th>\n",
       "    </tr>\n",
       "    <tr>\n",
       "      <th>label</th>\n",
       "      <th></th>\n",
       "      <th></th>\n",
       "      <th></th>\n",
       "      <th></th>\n",
       "      <th></th>\n",
       "    </tr>\n",
       "  </thead>\n",
       "  <tbody>\n",
       "    <tr>\n",
       "      <th>0</th>\n",
       "      <td>2536</td>\n",
       "      <td>2536</td>\n",
       "      <td>2536</td>\n",
       "      <td>2535</td>\n",
       "      <td>2508</td>\n",
       "    </tr>\n",
       "    <tr>\n",
       "      <th>1</th>\n",
       "      <td>2532</td>\n",
       "      <td>2532</td>\n",
       "      <td>2532</td>\n",
       "      <td>2532</td>\n",
       "      <td>2532</td>\n",
       "    </tr>\n",
       "  </tbody>\n",
       "</table>\n",
       "</div>"
      ],
      "text/plain": [
       "       Unnamed: 0  title  text  clean_title  clean_text\n",
       "label                                                  \n",
       "0            2536   2536  2536         2535        2508\n",
       "1            2532   2532  2532         2532        2532"
      ]
     },
     "execution_count": 9,
     "metadata": {},
     "output_type": "execute_result"
    }
   ],
   "source": [
    "fake_real_data.loc[indices_body_train].groupby('label').agg('count')"
   ]
  },
  {
   "cell_type": "code",
   "execution_count": 10,
   "metadata": {},
   "outputs": [
    {
     "data": {
      "text/html": [
       "<div>\n",
       "<style scoped>\n",
       "    .dataframe tbody tr th:only-of-type {\n",
       "        vertical-align: middle;\n",
       "    }\n",
       "\n",
       "    .dataframe tbody tr th {\n",
       "        vertical-align: top;\n",
       "    }\n",
       "\n",
       "    .dataframe thead th {\n",
       "        text-align: right;\n",
       "    }\n",
       "</style>\n",
       "<table border=\"1\" class=\"dataframe\">\n",
       "  <thead>\n",
       "    <tr style=\"text-align: right;\">\n",
       "      <th></th>\n",
       "      <th>Unnamed: 0</th>\n",
       "      <th>title</th>\n",
       "      <th>text</th>\n",
       "      <th>clean_title</th>\n",
       "      <th>clean_text</th>\n",
       "    </tr>\n",
       "    <tr>\n",
       "      <th>label</th>\n",
       "      <th></th>\n",
       "      <th></th>\n",
       "      <th></th>\n",
       "      <th></th>\n",
       "      <th></th>\n",
       "    </tr>\n",
       "  </thead>\n",
       "  <tbody>\n",
       "    <tr>\n",
       "      <th>0</th>\n",
       "      <td>628</td>\n",
       "      <td>628</td>\n",
       "      <td>628</td>\n",
       "      <td>628</td>\n",
       "      <td>620</td>\n",
       "    </tr>\n",
       "    <tr>\n",
       "      <th>1</th>\n",
       "      <td>639</td>\n",
       "      <td>639</td>\n",
       "      <td>639</td>\n",
       "      <td>639</td>\n",
       "      <td>639</td>\n",
       "    </tr>\n",
       "  </tbody>\n",
       "</table>\n",
       "</div>"
      ],
      "text/plain": [
       "       Unnamed: 0  title  text  clean_title  clean_text\n",
       "label                                                  \n",
       "0             628    628   628          628         620\n",
       "1             639    639   639          639         639"
      ]
     },
     "execution_count": 10,
     "metadata": {},
     "output_type": "execute_result"
    }
   ],
   "source": [
    "fake_real_data.loc[indices_body_test].groupby('label').agg('count')"
   ]
  },
  {
   "cell_type": "code",
   "execution_count": 11,
   "metadata": {},
   "outputs": [],
   "source": [
    "nb_body = MultinomialNB()"
   ]
  },
  {
   "cell_type": "code",
   "execution_count": 12,
   "metadata": {},
   "outputs": [
    {
     "data": {
      "text/plain": [
       "MultinomialNB(alpha=1.0, class_prior=None, fit_prior=True)"
      ]
     },
     "execution_count": 12,
     "metadata": {},
     "output_type": "execute_result"
    }
   ],
   "source": [
    "nb_body.fit(X_body_tfidf_train, y_body_train)"
   ]
  },
  {
   "cell_type": "code",
   "execution_count": 13,
   "metadata": {},
   "outputs": [],
   "source": [
    "y_body_train_pred = nb_body.predict(X_body_tfidf_train)"
   ]
  },
  {
   "cell_type": "code",
   "execution_count": 14,
   "metadata": {},
   "outputs": [
    {
     "name": "stdout",
     "output_type": "stream",
     "text": [
      "Naive Bayes In Sample F1 and Accuracy Scores:\n",
      "F1 score 90.21%\n",
      "Accuracy score 90.21%\n"
     ]
    }
   ],
   "source": [
    "print('Naive Bayes In Sample F1 and Accuracy Scores:')\n",
    "print('F1 score {:.4}%'.format(f1_score(y_body_train, y_body_train_pred, average='macro')*100 ))\n",
    "print ('Accuracy score {:.4}%'.format(accuracy_score(y_body_train, y_body_train_pred)*100))"
   ]
  },
  {
   "cell_type": "code",
   "execution_count": 15,
   "metadata": {},
   "outputs": [
    {
     "data": {
      "text/plain": [
       "(array([  18,   20,   29,   58,   63,   82,   94,   98,  100,  101,  105,\n",
       "         132,  133,  141,  145,  147,  163,  164,  179,  180,  188,  198,\n",
       "         212,  220,  221,  230,  233,  240,  250,  268,  270,  274,  275,\n",
       "         322,  353,  354,  355,  366,  367,  372,  382,  391,  392,  394,\n",
       "         400,  404,  435,  443,  454,  463,  481,  482,  488,  490,  494,\n",
       "         499,  508,  519,  520,  535,  550,  556,  566,  574,  581,  614,\n",
       "         624,  637,  650,  654,  660,  662,  664,  709,  722,  754,  763,\n",
       "         765,  772,  781,  791,  804,  829,  836,  848,  852,  860,  861,\n",
       "         869,  892,  901,  907,  916,  919,  923,  924,  932,  952,  968,\n",
       "         980,  996, 1001, 1006, 1009, 1042, 1060, 1067, 1083, 1086, 1089,\n",
       "        1101, 1105, 1111, 1122, 1126, 1135, 1139, 1146, 1158, 1166, 1191,\n",
       "        1192, 1197, 1236, 1241, 1249, 1250, 1251, 1255, 1259, 1265, 1269,\n",
       "        1271, 1273, 1300, 1305, 1306, 1309, 1315, 1319, 1321, 1348, 1354,\n",
       "        1375, 1377, 1383, 1390, 1394, 1395, 1409, 1419, 1428, 1443, 1458,\n",
       "        1469, 1472, 1473, 1479, 1494, 1502, 1507, 1514, 1532, 1533, 1538,\n",
       "        1566, 1568, 1572, 1583, 1589, 1607, 1610, 1614, 1615, 1628, 1661,\n",
       "        1665, 1666, 1669, 1678, 1686, 1694, 1709, 1713, 1719, 1738, 1740,\n",
       "        1744, 1776, 1790, 1796, 1835, 1843, 1850, 1851, 1854, 1870, 1884,\n",
       "        1886, 1905, 1915, 1928, 1962, 1981, 1988, 2003, 2010, 2019, 2056,\n",
       "        2060, 2061, 2085, 2096, 2122, 2133, 2138, 2139, 2152, 2154, 2158,\n",
       "        2174, 2175, 2194, 2204, 2207, 2235, 2236, 2242, 2258, 2272, 2277,\n",
       "        2278, 2281, 2317, 2318, 2324, 2333, 2337, 2339, 2358, 2378, 2381,\n",
       "        2389, 2391, 2403, 2404, 2406, 2418, 2426, 2427, 2435, 2440, 2443,\n",
       "        2445, 2449, 2459, 2493, 2498, 2514, 2524, 2526, 2534, 2535, 2544,\n",
       "        2545, 2547, 2581, 2596, 2606, 2613, 2632, 2636, 2637, 2657, 2659,\n",
       "        2662, 2670, 2671, 2685, 2707, 2710, 2728, 2733, 2735, 2737, 2751,\n",
       "        2784, 2806, 2807, 2809, 2819, 2820, 2823, 2826, 2851, 2852, 2904,\n",
       "        2908, 2918, 2933, 2938, 2943, 2970, 2977, 2988, 2994, 3002, 3003,\n",
       "        3006, 3012, 3015, 3037, 3040, 3044, 3063, 3065, 3089, 3095, 3158,\n",
       "        3174, 3191, 3227, 3256, 3257, 3261, 3267, 3281, 3285, 3290, 3292,\n",
       "        3315, 3327, 3330, 3348, 3358, 3369, 3371, 3379, 3397, 3398, 3405,\n",
       "        3406, 3424, 3430, 3455, 3494, 3533, 3545, 3547, 3559, 3583, 3601,\n",
       "        3631, 3640, 3647, 3650, 3654, 3663, 3685, 3691, 3692, 3696, 3703,\n",
       "        3722, 3723, 3749, 3762, 3769, 3829, 3834, 3835, 3848, 3851, 3868,\n",
       "        3897, 3902, 3912, 3926, 3932, 3946, 3947, 3967, 3972, 3975, 3976,\n",
       "        3987, 3991, 3992, 3994, 4008, 4010, 4028, 4029, 4053, 4068, 4084,\n",
       "        4087, 4120, 4124, 4125, 4134, 4138, 4141, 4155, 4164, 4183, 4185,\n",
       "        4188, 4229, 4233, 4240, 4245, 4249, 4266, 4272, 4277, 4284, 4292,\n",
       "        4304, 4306, 4365, 4366, 4374, 4400, 4401, 4420, 4421, 4429, 4454,\n",
       "        4457, 4461, 4475, 4478, 4497, 4506, 4525, 4530, 4553, 4556, 4561,\n",
       "        4565, 4572, 4581, 4604, 4627, 4631, 4632, 4651, 4657, 4661, 4671,\n",
       "        4704, 4705, 4706, 4716, 4728, 4729, 4744, 4757, 4764, 4774, 4776,\n",
       "        4780, 4783, 4789, 4810, 4814, 4821, 4823, 4824, 4825, 4828, 4837,\n",
       "        4839, 4846, 4847, 4849, 4863, 4866, 4909, 4916, 4917, 4918, 4954,\n",
       "        4955, 4966, 4981, 4983, 4987, 4988, 4991, 5004, 5025, 5029, 5050,\n",
       "        5056], dtype=int64),)"
      ]
     },
     "execution_count": 15,
     "metadata": {},
     "output_type": "execute_result"
    }
   ],
   "source": [
    "np.where(y_body_train != y_body_train_pred)"
   ]
  },
  {
   "cell_type": "code",
   "execution_count": 16,
   "metadata": {},
   "outputs": [
    {
     "data": {
      "text/html": [
       "<div>\n",
       "<style scoped>\n",
       "    .dataframe tbody tr th:only-of-type {\n",
       "        vertical-align: middle;\n",
       "    }\n",
       "\n",
       "    .dataframe tbody tr th {\n",
       "        vertical-align: top;\n",
       "    }\n",
       "\n",
       "    .dataframe thead th {\n",
       "        text-align: right;\n",
       "    }\n",
       "</style>\n",
       "<table border=\"1\" class=\"dataframe\">\n",
       "  <thead>\n",
       "    <tr style=\"text-align: right;\">\n",
       "      <th></th>\n",
       "      <th>title</th>\n",
       "      <th>text</th>\n",
       "      <th>label</th>\n",
       "      <th>clean_title</th>\n",
       "      <th>clean_text</th>\n",
       "    </tr>\n",
       "  </thead>\n",
       "  <tbody>\n",
       "    <tr>\n",
       "      <th>18</th>\n",
       "      <td>What's in that Iran bill that Obama doesn't like?</td>\n",
       "      <td>Washington (CNN) For months, the White House a...</td>\n",
       "      <td>1</td>\n",
       "      <td>what's iran bill obama like?</td>\n",
       "      <td>washington (cnn) months, white house congress ...</td>\n",
       "    </tr>\n",
       "    <tr>\n",
       "      <th>20</th>\n",
       "      <td>The slippery slope to Trump’s proposed ban on ...</td>\n",
       "      <td>With little fanfare this fall, the New York de...</td>\n",
       "      <td>1</td>\n",
       "      <td>slippery slope trump’s proposed ban muslims</td>\n",
       "      <td>little fanfare fall, new york developer planne...</td>\n",
       "    </tr>\n",
       "    <tr>\n",
       "      <th>29</th>\n",
       "      <td>Syrian War Report – November 1, 2016: Syrian M...</td>\n",
       "      <td>Syrian War Report – October 31, 2016: Al-Nusra...</td>\n",
       "      <td>0</td>\n",
       "      <td>syrian war report november 1, 2016: syrian mil...</td>\n",
       "      <td>syrian war report october 31, 2016: al-nusra-l...</td>\n",
       "    </tr>\n",
       "    <tr>\n",
       "      <th>58</th>\n",
       "      <td>Police Turn In Badges Rather Than Incite Viole...</td>\n",
       "      <td>It should be evident if you’re following news ...</td>\n",
       "      <td>0</td>\n",
       "      <td>police turn badges rather incite violence stan...</td>\n",
       "      <td>evident you’re following news concerning stand...</td>\n",
       "    </tr>\n",
       "    <tr>\n",
       "      <th>63</th>\n",
       "      <td>Comment on Quid Pro Quo? Wikileaks Email Revea...</td>\n",
       "      <td>New Wikileaks email dumps have revealed massiv...</td>\n",
       "      <td>0</td>\n",
       "      <td>comment quid pro quo? wikileaks email reveals ...</td>\n",
       "      <td>new wikileaks email dumps revealed massive cor...</td>\n",
       "    </tr>\n",
       "    <tr>\n",
       "      <th>82</th>\n",
       "      <td>To get around Congress, Obama turns to city halls</td>\n",
       "      <td>WASHINGTON — President Obama has quietly racke...</td>\n",
       "      <td>1</td>\n",
       "      <td>get around congress, obama turns city halls</td>\n",
       "      <td>washington president obama quietly racked seri...</td>\n",
       "    </tr>\n",
       "    <tr>\n",
       "      <th>94</th>\n",
       "      <td>French police hunt two brothers accused of Cha...</td>\n",
       "      <td>A third suspect has turned himself in. Prime M...</td>\n",
       "      <td>1</td>\n",
       "      <td>french police hunt two brothers accused charli...</td>\n",
       "      <td>third suspect turned in. prime minister valls ...</td>\n",
       "    </tr>\n",
       "    <tr>\n",
       "      <th>98</th>\n",
       "      <td>Fireworks erupt between Trump and Bush, Rubio ...</td>\n",
       "      <td>Sparks flew at the toughest and liveliest GOP ...</td>\n",
       "      <td>1</td>\n",
       "      <td>fireworks erupt trump bush, rubio cruz gop debate</td>\n",
       "      <td>sparks flew toughest liveliest gop primary deb...</td>\n",
       "    </tr>\n",
       "    <tr>\n",
       "      <th>100</th>\n",
       "      <td>How Ted Cruz Became Ted Cruz</td>\n",
       "      <td>In 2008, in the high-profile Supreme Court gun...</td>\n",
       "      <td>1</td>\n",
       "      <td>ted cruz became ted cruz</td>\n",
       "      <td>2008, high-profile supreme court gun-rights ca...</td>\n",
       "    </tr>\n",
       "    <tr>\n",
       "      <th>101</th>\n",
       "      <td>Newly Approved GM Potatoes Have Potential to S...</td>\n",
       "      <td>Late last week, the US Department of Agricultu...</td>\n",
       "      <td>0</td>\n",
       "      <td>newly approved gm potatoes potential silence h...</td>\n",
       "      <td>late last week, us department agriculture (usd...</td>\n",
       "    </tr>\n",
       "    <tr>\n",
       "      <th>105</th>\n",
       "      <td>Where is Gary Johnson?</td>\n",
       "      <td>(CNN) Conservatives dissatisfied with Donald T...</td>\n",
       "      <td>1</td>\n",
       "      <td>gary johnson?</td>\n",
       "      <td>(cnn) conservatives dissatisfied donald trump ...</td>\n",
       "    </tr>\n",
       "  </tbody>\n",
       "</table>\n",
       "</div>"
      ],
      "text/plain": [
       "                                                 title  \\\n",
       "18   What's in that Iran bill that Obama doesn't like?   \n",
       "20   The slippery slope to Trump’s proposed ban on ...   \n",
       "29   Syrian War Report – November 1, 2016: Syrian M...   \n",
       "58   Police Turn In Badges Rather Than Incite Viole...   \n",
       "63   Comment on Quid Pro Quo? Wikileaks Email Revea...   \n",
       "82   To get around Congress, Obama turns to city halls   \n",
       "94   French police hunt two brothers accused of Cha...   \n",
       "98   Fireworks erupt between Trump and Bush, Rubio ...   \n",
       "100                       How Ted Cruz Became Ted Cruz   \n",
       "101  Newly Approved GM Potatoes Have Potential to S...   \n",
       "105                             Where is Gary Johnson?   \n",
       "\n",
       "                                                  text  label  \\\n",
       "18   Washington (CNN) For months, the White House a...      1   \n",
       "20   With little fanfare this fall, the New York de...      1   \n",
       "29   Syrian War Report – October 31, 2016: Al-Nusra...      0   \n",
       "58   It should be evident if you’re following news ...      0   \n",
       "63   New Wikileaks email dumps have revealed massiv...      0   \n",
       "82   WASHINGTON — President Obama has quietly racke...      1   \n",
       "94   A third suspect has turned himself in. Prime M...      1   \n",
       "98   Sparks flew at the toughest and liveliest GOP ...      1   \n",
       "100  In 2008, in the high-profile Supreme Court gun...      1   \n",
       "101  Late last week, the US Department of Agricultu...      0   \n",
       "105  (CNN) Conservatives dissatisfied with Donald T...      1   \n",
       "\n",
       "                                           clean_title  \\\n",
       "18                        what's iran bill obama like?   \n",
       "20         slippery slope trump’s proposed ban muslims   \n",
       "29   syrian war report november 1, 2016: syrian mil...   \n",
       "58   police turn badges rather incite violence stan...   \n",
       "63   comment quid pro quo? wikileaks email reveals ...   \n",
       "82         get around congress, obama turns city halls   \n",
       "94   french police hunt two brothers accused charli...   \n",
       "98   fireworks erupt trump bush, rubio cruz gop debate   \n",
       "100                           ted cruz became ted cruz   \n",
       "101  newly approved gm potatoes potential silence h...   \n",
       "105                                      gary johnson?   \n",
       "\n",
       "                                            clean_text  \n",
       "18   washington (cnn) months, white house congress ...  \n",
       "20   little fanfare fall, new york developer planne...  \n",
       "29   syrian war report october 31, 2016: al-nusra-l...  \n",
       "58   evident you’re following news concerning stand...  \n",
       "63   new wikileaks email dumps revealed massive cor...  \n",
       "82   washington president obama quietly racked seri...  \n",
       "94   third suspect turned in. prime minister valls ...  \n",
       "98   sparks flew toughest liveliest gop primary deb...  \n",
       "100  2008, high-profile supreme court gun-rights ca...  \n",
       "101  late last week, us department agriculture (usd...  \n",
       "105  (cnn) conservatives dissatisfied donald trump ...  "
      ]
     },
     "execution_count": 16,
     "metadata": {},
     "output_type": "execute_result"
    }
   ],
   "source": [
    "fake_real_data.drop(['Unnamed: 0'],axis=1).loc[[18,20,29,58,63,82,94,98,100,101,105]]"
   ]
  },
  {
   "cell_type": "code",
   "execution_count": 17,
   "metadata": {},
   "outputs": [],
   "source": [
    "y_body_pred = nb_body.predict(X_body_tfidf_test)"
   ]
  },
  {
   "cell_type": "code",
   "execution_count": 18,
   "metadata": {},
   "outputs": [
    {
     "name": "stdout",
     "output_type": "stream",
     "text": [
      "Naive Bayes F1 and Accuracy Scores:\n",
      "F1 score 89.66%\n",
      "Accuracy score 89.66%\n"
     ]
    }
   ],
   "source": [
    "print('Naive Bayes F1 and Accuracy Scores:')\n",
    "print('F1 score {:.4}%'.format(f1_score(y_body_test, y_body_pred, average='macro')*100 ))\n",
    "print ('Accuracy score {:.4}%'.format(accuracy_score(y_body_test, y_body_pred)*100))"
   ]
  },
  {
   "cell_type": "code",
   "execution_count": 19,
   "metadata": {},
   "outputs": [
    {
     "data": {
      "text/plain": [
       "(array([  10,   16,   33,   58,   68,   71,   80,   87,  106,  128,  130,\n",
       "         139,  145,  153,  154,  191,  202,  214,  224,  228,  229,  242,\n",
       "         259,  262,  265,  274,  275,  276,  290,  322,  343,  347,  349,\n",
       "         353,  361,  382,  384,  395,  397,  402,  406,  409,  422,  436,\n",
       "         484,  497,  498,  499,  514,  517,  518,  532,  536,  539,  554,\n",
       "         556,  557,  575,  578,  604,  610,  612,  616,  624,  634,  658,\n",
       "         662,  674,  691,  704,  705,  721,  728,  735,  745,  752,  767,\n",
       "         769,  777,  788,  809,  822,  831,  845,  848,  851,  876,  895,\n",
       "         905,  919,  928,  936,  945,  946,  951,  964,  974,  976,  988,\n",
       "         993,  998, 1009, 1026, 1029, 1031, 1038, 1046, 1067, 1071, 1078,\n",
       "        1091, 1093, 1103, 1110, 1114, 1118, 1126, 1130, 1143, 1156, 1164,\n",
       "        1166, 1171, 1192, 1198, 1201, 1208, 1226, 1244, 1250, 1264],\n",
       "       dtype=int64),)"
      ]
     },
     "execution_count": 19,
     "metadata": {},
     "output_type": "execute_result"
    }
   ],
   "source": [
    "np.where(y_body_test != y_body_pred)"
   ]
  },
  {
   "cell_type": "code",
   "execution_count": 20,
   "metadata": {},
   "outputs": [],
   "source": [
    "spam = fake_real_data[fake_real_data['label']==1]"
   ]
  },
  {
   "cell_type": "code",
   "execution_count": 21,
   "metadata": {},
   "outputs": [],
   "source": [
    "spam_words = nltk.word_tokenize(\" \".join(spam['clean_text'].values.tolist()))"
   ]
  },
  {
   "cell_type": "code",
   "execution_count": 22,
   "metadata": {},
   "outputs": [
    {
     "name": "stdout",
     "output_type": "stream",
     "text": [
      "[(',', 146941), ('.', 116083), ('’', 30468), ('s', 19240), ('“', 18849), ('”', 18492), ('``', 17298), (\"''\", 17242), ('said', 17174), ('trump', 15390), (\"'s\", 15102), ('clinton', 10535), ('would', 7813), (':', 7255), ('one', 6351), ('people', 6244), ('president', 5988), ('state', 5973), ('obama', 5913), ('it', 5901), ('new', 5767), (')', 5560), ('campaign', 5525), ('(', 5490), ('i', 5214), ('t', 5099), ('also', 5028), ('republican', 4869), ('party', 4192), ('?', 4102), ('could', 4052), ('--', 3960), ('states', 3875), ('like', 3823), ('sanders', 3789), ('that', 3647), ('time', 3617), ('even', 3529), ('house', 3499), ('we', 3485), ('percent', 3431), ('two', 3390), ('political', 3339), ('many', 3265), ('first', 3227), ('republicans', 3180), ('voters', 3176), ('he', 3080), ('presidential', 3057), ('u.s.', 3035)]\n"
     ]
    }
   ],
   "source": [
    "spam_counter = Counter(spam_words)\n",
    "print(spam_counter.most_common(50))"
   ]
  },
  {
   "cell_type": "code",
   "execution_count": 23,
   "metadata": {},
   "outputs": [
    {
     "name": "stdout",
     "output_type": "stream",
     "text": [
      "[(('’', 's'), 19207), (('.', '``'), 7913), (('.', '“'), 7753), ((',', \"''\"), 6653), (('.', \"''\"), 6384), ((',', '”'), 6346), (('’', 't'), 5077), (('said', '.'), 4608), (('it', '’'), 2584), ((',', 'said'), 2325)]\n"
     ]
    }
   ],
   "source": [
    "spam_wordcloud = WordCloud(width=1200, height=1000, random_state = 42).generate(\" \".join(spam_words))\n",
    "spam_bigrams = nltk.bigrams(spam_words)\n",
    "spam_counter = Counter(spam_bigrams)\n",
    "print(spam_counter.most_common(10))"
   ]
  },
  {
   "cell_type": "code",
   "execution_count": 24,
   "metadata": {},
   "outputs": [],
   "source": [
    "ham = fake_real_data[fake_real_data['label']==0]\n",
    "ham.dropna()\n",
    "ham[\"clean_text\"]= ham[\"clean_text\"].astype(str)"
   ]
  },
  {
   "cell_type": "code",
   "execution_count": 25,
   "metadata": {},
   "outputs": [],
   "source": [
    "ham_words = nltk.word_tokenize(\" \".join(ham['clean_text'].values.tolist()))"
   ]
  },
  {
   "cell_type": "code",
   "execution_count": 26,
   "metadata": {},
   "outputs": [
    {
     "name": "stdout",
     "output_type": "stream",
     "text": [
      "[(',', 105871), ('.', 79520), ('’', 27973), ('s', 16545), ('”', 15388), ('“', 15378), (':', 9786), (')', 7417), ('(', 7138), ('clinton', 6708), ('trump', 6516), ('?', 5539), ('people', 5355), ('t', 5162), ('one', 4943), ('us', 4910), ('would', 4895), ('hillary', 4531), ('it', 4454), ('said', 3988), ('new', 3496), ('like', 3214), ('also', 3178), ('world', 3079), ('election', 2956), ('even', 2895), ('time', 2817), ('state', 2768), ('government', 2691), ('many', 2582), ('president', 2519), ('could', 2496), ('2016', 2473), (\"''\", 2415), ('``', 2411), ('!', 2408), ('war', 2398), ('american', 2349), (\"'s\", 2308), ('states', 2266), (';', 2255), ('obama', 2211), ('years', 2159), ('first', 2133), ('i', 2121), ('campaign', 2117), ('russia', 2109), ('media', 2085), ('get', 2069), ('that', 1991)]\n"
     ]
    }
   ],
   "source": [
    "ham_counter = Counter(ham_words)\n",
    "print(ham_counter.most_common(50))"
   ]
  },
  {
   "cell_type": "code",
   "execution_count": 27,
   "metadata": {},
   "outputs": [
    {
     "name": "stdout",
     "output_type": "stream",
     "text": [
      "[(('’', 's'), 16432), (('’', 't'), 5010), (('.', '“'), 3316), ((',', '”'), 3056), (('hillary', 'clinton'), 2441), (('it', '’'), 2321), ((',', '2016'), 1706), (('donald', 'trump'), 1689), ((',', '“'), 1482), (('don', '’'), 1440)]\n"
     ]
    }
   ],
   "source": [
    "ham_wordcloud = WordCloud(width=1200, height=1000, random_state = 42).generate(\" \".join(ham_words))\n",
    "ham_bigrams = nltk.bigrams(ham_words)\n",
    "ham_counter = Counter(ham_bigrams)\n",
    "print(ham_counter.most_common(10))"
   ]
  },
  {
   "cell_type": "code",
   "execution_count": null,
   "metadata": {},
   "outputs": [],
   "source": []
  }
 ],
 "metadata": {
  "kernelspec": {
   "display_name": "Python 3",
   "language": "python",
   "name": "python3"
  },
  "language_info": {
   "codemirror_mode": {
    "name": "ipython",
    "version": 3
   },
   "file_extension": ".py",
   "mimetype": "text/x-python",
   "name": "python",
   "nbconvert_exporter": "python",
   "pygments_lexer": "ipython3",
   "version": "3.7.3"
  }
 },
 "nbformat": 4,
 "nbformat_minor": 2
}
